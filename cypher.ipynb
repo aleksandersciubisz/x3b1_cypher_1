{
 "cells": [
  {
   "cell_type": "code",
   "execution_count": 1,
   "metadata": {},
   "outputs": [
    {
     "name": "stdout",
     "output_type": "stream",
     "text": [
      "Zaszyfrowany: Dod pd nrwd\n",
      "Odszyfrowany: Ala ma kota\n"
     ]
    }
   ],
   "source": [
    "def szyfr_cezara(s, przesuniecie):\n",
    "    wynik = \"\"\n",
    "    for znak in s:\n",
    "        if znak.isalpha():  # Sprawdza, czy znak jest literą\n",
    "            przesuniety_znak = ord(znak) + przesuniecie\n",
    "            if znak.islower():\n",
    "                if przesuniety_znak > ord('z'):\n",
    "                    przesuniety_znak -= 26\n",
    "                elif przesuniety_znak < ord('a'):\n",
    "                    przesuniety_znak += 26\n",
    "            elif znak.isupper():\n",
    "                if przesuniety_znak > ord('Z'):\n",
    "                    przesuniety_znak -= 26\n",
    "                elif przesuniety_znak < ord('A'):\n",
    "                    przesuniety_znak += 26\n",
    "            wynik += chr(przesuniety_znak)\n",
    "        else:\n",
    "            wynik += znak  # Dodaje znaki niebędące literami bez zmian\n",
    "    return wynik\n",
    "\n",
    "def deszyfr_cezara(s, przesuniecie):\n",
    "    return szyfr_cezara(s, -przesuniecie)\n",
    "\n",
    "# Przykład użycia\n",
    "tekst = \"Ala ma kota\"\n",
    "przesuniecie = 3\n",
    "zaszyfrowany = szyfr_cezara(tekst, przesuniecie)\n",
    "odszyfrowany = deszyfr_cezara(zaszyfrowany, przesuniecie)\n",
    "\n",
    "print(\"Zaszyfrowany:\", zaszyfrowany)\n",
    "print(\"Odszyfrowany:\", odszyfrowany)\n"
   ]
  },
  {
   "cell_type": "code",
   "execution_count": 3,
   "metadata": {},
   "outputs": [
    {
     "name": "stdout",
     "output_type": "stream",
     "text": [
      "['Tes', 't t', 'eks', 't']\n"
     ]
    }
   ],
   "source": [
    "def dziel_na_fragmenty(tekst, dlugosc_fragmentu=3):\n",
    "    fragmenty = [tekst[i:i + dlugosc_fragmentu] for i in range(0, len(tekst), dlugosc_fragmentu)]\n",
    "    return fragmenty\n",
    "\n",
    "# Przykład użycia\n",
    "wpisany_tekst = \"Test tekst\"\n",
    "wynik = dziel_na_fragmenty(wpisany_tekst)\n",
    "print(wynik)\n"
   ]
  },
  {
   "cell_type": "code",
   "execution_count": 4,
   "metadata": {},
   "outputs": [
    {
     "name": "stdout",
     "output_type": "stream",
     "text": [
      "['abc', 'abd', 'abe', 'abf', 'abg', 'abh', 'abi', 'abj', 'abk', 'abl']\n"
     ]
    }
   ],
   "source": [
    "import itertools\n",
    "\n",
    "def generuj_kombinacje():\n",
    "    # Tworzymy listę liter od 'a' do 'z'\n",
    "    alfabet = [chr(i) for i in range(ord('a'), ord('z') + 1)]\n",
    "    \n",
    "    # Generujemy wszystkie kombinacje trzech liter bez powtórzeń\n",
    "    kombinacje = list(itertools.permutations(alfabet, 3))\n",
    "    \n",
    "    # Konwertujemy tuple na stringi\n",
    "    kombinacje = [''.join(kombinacja) for kombinacja in kombinacje]\n",
    "    \n",
    "    return kombinacje\n",
    "\n",
    "# Wywołujemy funkcję i wyświetlamy kilka pierwszych kombinacji\n",
    "kombinacje = generuj_kombinacje()\n",
    "print(kombinacje[:10])  # Wyświetlamy tylko pierwsze 10 kombinacji dla przykładu\n"
   ]
  },
  {
   "cell_type": "code",
   "execution_count": 5,
   "metadata": {},
   "outputs": [
    {
     "name": "stdout",
     "output_type": "stream",
     "text": [
      "[('abc', 'wij'), ('abd', 'ymj'), ('abe', 'hgk'), ('abf', 'jdy'), ('abg', 'snt')]\n"
     ]
    }
   ],
   "source": [
    "import itertools\n",
    "import random\n",
    "\n",
    "def generuj_kombinacje():\n",
    "    # Tworzymy listę liter od 'a' do 'z'\n",
    "    alfabet = [chr(i) for i in range(ord('a'), ord('z') + 1)]\n",
    "    \n",
    "    # Generujemy wszystkie kombinacje trzech liter bez powtórzeń\n",
    "    kombinacje = list(itertools.permutations(alfabet, 3))\n",
    "    \n",
    "    # Konwertujemy tuple na stringi\n",
    "    kombinacje = [''.join(kombinacja) for kombinacja in kombinacje]\n",
    "    \n",
    "    return kombinacje\n",
    "\n",
    "def losuj_kombinacje(kombinacje):\n",
    "    # Klonujemy listę kombinacji i przemieszamy ją\n",
    "    mieszane_kombinacje = kombinacje[:]\n",
    "    random.shuffle(mieszane_kombinacje)\n",
    "    return mieszane_kombinacje\n",
    "\n",
    "def utworz_klucz(kombinacje, mieszane_kombinacje):\n",
    "    # Tworzymy klucz jako parowanie oryginalnych kombinacji z ich mieszanych odpowiednikami\n",
    "    klucz = list(zip(kombinacje, mieszane_kombinacje))\n",
    "    return klucz\n",
    "\n",
    "# Wywołujemy funkcje\n",
    "kombinacje = generuj_kombinacje()\n",
    "mieszane_kombinacje = losuj_kombinacje(kombinacje)\n",
    "klucz = utworz_klucz(kombinacje, mieszane_kombinacje)\n",
    "\n",
    "# Wyświetlamy kilka pierwszych par dla przykładu\n",
    "print(klucz[:5])\n"
   ]
  },
  {
   "cell_type": "code",
   "execution_count": 7,
   "metadata": {},
   "outputs": [
    {
     "name": "stdout",
     "output_type": "stream",
     "text": [
      "Zaszyfrowany tekst: mqi t s xev wgf pog a s xev wgf pog a t iby\n",
      "Odszyfrowany tekst: testszyfrowaniaszyfrowaniatest\n"
     ]
    }
   ],
   "source": [
    "import itertools\n",
    "import random\n",
    "\n",
    "def generuj_kombinacje():\n",
    "    alfabet = [chr(i) for i in range(ord('a'), ord('z') + 1)]\n",
    "    kombinacje = list(itertools.permutations(alfabet, 3))\n",
    "    kombinacje = [''.join(kombinacja) for kombinacja in kombinacje]\n",
    "    return kombinacje\n",
    "\n",
    "def losuj_kombinacje(kombinacje):\n",
    "    mieszane_kombinacje = kombinacje[:]\n",
    "    random.shuffle(mieszane_kombinacje)\n",
    "    return mieszane_kombinacje\n",
    "\n",
    "def utworz_klucz(kombinacje, mieszane_kombinacje):\n",
    "    return dict(zip(kombinacje, mieszane_kombinacje))\n",
    "\n",
    "def szyfruj_tekst(tekst, klucz):\n",
    "    # Dzielimy tekst na trzyliterowe fragmenty\n",
    "    fragmenty = [tekst[i:i+3] for i in range(0, len(tekst), 3)]\n",
    "    zaszyfrowane_fragmenty = []\n",
    "    for frag in fragmenty:\n",
    "        if len(frag) == 3:\n",
    "            zaszyfrowany = klucz.get(frag, frag)  # Używamy klucza do zamiany fragmentu, jeśli istnieje\n",
    "        else:\n",
    "            zaszyfrowany = frag  # Krótszy fragment zostawiamy bez zmian\n",
    "        zaszyfrowane_fragmenty.append(zaszyfrowany)\n",
    "    return ' '.join(zaszyfrowane_fragmenty)\n",
    "\n",
    "def deszyfruj_tekst(tekst, klucz):\n",
    "    klucz_odwrotny = {v: k for k, v in klucz.items()}\n",
    "    fragmenty = tekst.split()\n",
    "    odszyfrowane_fragmenty = [klucz_odwrotny.get(frag, frag) for frag in fragmenty]\n",
    "    return ''.join(odszyfrowane_fragmenty)\n",
    "\n",
    "# Generowanie klucza\n",
    "kombinacje = generuj_kombinacje()\n",
    "mieszane_kombinacje = losuj_kombinacje(kombinacje)\n",
    "klucz = utworz_klucz(kombinacje, mieszane_kombinacje)\n",
    "\n",
    "# Przykład użycia\n",
    "tekst_do_szyfrowania = \"test szyfrowania szyfrowania test\"\n",
    "zaszyfrowany_tekst = szyfruj_tekst(tekst_do_szyfrowania, klucz)\n",
    "print(\"Zaszyfrowany tekst:\", zaszyfrowany_tekst)\n",
    "\n",
    "odszyfrowany_tekst = deszyfruj_tekst(zaszyfrowany_tekst, klucz)\n",
    "print(\"Odszyfrowany tekst:\", odszyfrowany_tekst)\n"
   ]
  },
  {
   "cell_type": "code",
   "execution_count": 10,
   "metadata": {},
   "outputs": [
    {
     "name": "stdout",
     "output_type": "stream",
     "text": [
      "Tekst do szyfrowania: test tekstu do szyfrowania\n",
      "Zaszyfrowany tekst: zrt txt ajr tu1 xny btd ycg xnh cpx\n",
      "Odszyfrowany tekst: testxtekstu1dobszyfrowaniax\n"
     ]
    }
   ],
   "source": [
    "import itertools\n",
    "import random\n",
    "\n",
    "def generuj_kombinacje():\n",
    "    alfabet = [chr(i) for i in range(ord('a'), ord('z') + 1)]\n",
    "    kombinacje = list(itertools.permutations(alfabet, 3))\n",
    "    kombinacje = [''.join(kombinacja) for kombinacja in kombinacje]\n",
    "    return kombinacje\n",
    "\n",
    "def losuj_kombinacje(kombinacje):\n",
    "    mieszane_kombinacje = kombinacje[:]\n",
    "    random.shuffle(mieszane_kombinacje)\n",
    "    return mieszane_kombinacje\n",
    "\n",
    "def utworz_klucz(kombinacje, mieszane_kombinacje):\n",
    "    return dict(zip(kombinacje, mieszane_kombinacje))\n",
    "\n",
    "def przygotuj_tekst(tekst):\n",
    "    # Zamiana spacji na losowe znaki z podanego zbioru\n",
    "    znaki_zamiany = ['x', '3', 'b', '1']\n",
    "    tekst = ''.join(random.choice(znaki_zamiany) if c == ' ' else c for c in tekst)\n",
    "    \n",
    "    # Dopisywanie 'x', jeśli potrzeba, aby uzyskać długość wielokrotności 3\n",
    "    while len(tekst) % 3 != 0:\n",
    "        tekst += 'x'\n",
    "    \n",
    "    return tekst\n",
    "\n",
    "def szyfruj_tekst(tekst, klucz):\n",
    "    tekst = przygotuj_tekst(tekst)\n",
    "    fragmenty = [tekst[i:i+3] for i in range(0, len(tekst), 3)]\n",
    "    zaszyfrowane_fragmenty = [klucz.get(frag, frag) for frag in fragmenty]\n",
    "    return ' '.join(zaszyfrowane_fragmenty)\n",
    "\n",
    "def deszyfruj_tekst(tekst, klucz):\n",
    "    klucz_odwrotny = {v: k for k, v in klucz.items()}\n",
    "    fragmenty = tekst.split()\n",
    "    odszyfrowane_fragmenty = [klucz_odwrotny.get(frag, frag) for frag in fragmenty]\n",
    "    return ''.join(odszyfrowane_fragmenty)\n",
    "\n",
    "# Generowanie klucza\n",
    "kombinacje = generuj_kombinacje()\n",
    "mieszane_kombinacje = losuj_kombinacje(kombinacje)\n",
    "klucz = utworz_klucz(kombinacje, mieszane_kombinacje)\n",
    "\n",
    "# Przykład użycia\n",
    "tekst_do_szyfrowania = \"test tekstu do szyfrowania\"\n",
    "print(\"Tekst do szyfrowania:\", tekst_do_szyfrowania)\n",
    "\n",
    "zaszyfrowany_tekst = szyfruj_tekst(tekst_do_szyfrowania, klucz)\n",
    "print(\"Zaszyfrowany tekst:\", zaszyfrowany_tekst)\n",
    "\n",
    "odszyfrowany_tekst = deszyfruj_tekst(zaszyfrowany_tekst, klucz)\n",
    "print(\"Odszyfrowany tekst:\", odszyfrowany_tekst)\n"
   ]
  },
  {
   "cell_type": "code",
   "execution_count": 12,
   "metadata": {},
   "outputs": [
    {
     "name": "stdout",
     "output_type": "stream",
     "text": [
      "Tekst do szyfrowania: test tekstu do szyfrowania\n",
      "Zaszyfrowany tekst: vjt txt udr xbt gev otz itb siy lao\n",
      "Odszyfrowany tekst: test tekstu do szyfrowania \n"
     ]
    }
   ],
   "source": [
    "import itertools\n",
    "import random\n",
    "\n",
    "def generuj_kombinacje():\n",
    "    alfabet = [chr(i) for i in range(ord('a'), ord('z') + 1)]\n",
    "    kombinacje = list(itertools.permutations(alfabet, 3))\n",
    "    kombinacje = [''.join(kombinacja) for kombinacja in kombinacje]\n",
    "    return kombinacje\n",
    "\n",
    "def losuj_kombinacje(kombinacje):\n",
    "    mieszane_kombinacje = kombinacje[:]\n",
    "    random.shuffle(mieszane_kombinacje)\n",
    "    return mieszane_kombinacje\n",
    "\n",
    "def utworz_klucz(kombinacje, mieszane_kombinacje):\n",
    "    return dict(zip(kombinacje, mieszane_kombinacje))\n",
    "\n",
    "def przygotuj_tekst(tekst):\n",
    "    znaki_zamiany = ['x', '3', 'b', '1']\n",
    "    tekst = ''.join(random.choice(znaki_zamiany) if c == ' ' else c for c in tekst)\n",
    "    while len(tekst) % 3 != 0:\n",
    "        tekst += 'x'\n",
    "    return tekst\n",
    "\n",
    "def szyfruj_tekst(tekst, klucz):\n",
    "    tekst = przygotuj_tekst(tekst)\n",
    "    fragmenty = [tekst[i:i+3] for i in range(0, len(tekst), 3)]\n",
    "    zaszyfrowane_fragmenty = [klucz.get(frag, frag) for frag in fragmenty]\n",
    "    return ' '.join(zaszyfrowane_fragmenty)\n",
    "\n",
    "def deszyfruj_tekst(tekst, klucz):\n",
    "    klucz_odwrotny = {v: k for k, v in klucz.items()}\n",
    "    fragmenty = tekst.split()\n",
    "    odszyfrowane_fragmenty = [klucz_odwrotny.get(frag, frag) for frag in fragmenty]\n",
    "    return ''.join(odszyfrowane_fragmenty)\n",
    "\n",
    "def przywracanie_spacji(tekst):\n",
    "    znaki_zamiany = ['x', '3', 'b', '1']\n",
    "    return ''.join(' ' if c in znaki_zamiany else c for c in tekst)\n",
    "\n",
    "# Generowanie klucza\n",
    "kombinacje = generuj_kombinacje()\n",
    "mieszane_kombinacje = losuj_kombinacje(kombinacje)\n",
    "klucz = utworz_klucz(kombinacje, mieszane_kombinacje)\n",
    "\n",
    "# Przykład użycia\n",
    "tekst_do_szyfrowania = \"test tekstu do szyfrowania\"\n",
    "print(\"Tekst do szyfrowania:\", tekst_do_szyfrowania)\n",
    "\n",
    "zaszyfrowany_tekst = szyfruj_tekst(tekst_do_szyfrowania, klucz)\n",
    "print(\"Zaszyfrowany tekst:\", zaszyfrowany_tekst)\n",
    "\n",
    "odszyfrowany_tekst = deszyfruj_tekst(zaszyfrowany_tekst, klucz)\n",
    "tekst_z_przywróconymi_spacjami = przywracanie_spacji(odszyfrowany_tekst)\n",
    "print(\"Odszyfrowany tekst:\", tekst_z_przywróconymi_spacjami)\n"
   ]
  },
  {
   "cell_type": "code",
   "execution_count": 13,
   "metadata": {},
   "outputs": [
    {
     "name": "stdout",
     "output_type": "stream",
     "text": [
      "10 pierwszych kombinacji:\n",
      "xxx\n",
      "xx3\n",
      "xxb\n",
      "xx1\n",
      "x3x\n",
      "x33\n",
      "x3b\n",
      "x31\n",
      "xbx\n",
      "xb3\n",
      "Zaszyfrowana data: xx3xx1.xxxxx3.xb3xxx\n"
     ]
    }
   ],
   "source": [
    "import itertools\n",
    "\n",
    "# 1. Generowanie wszystkich możliwych trzyliterowych kombinacji\n",
    "znaki = ['x', '3', 'b', '1']\n",
    "kombinacje = list(itertools.product(znaki, repeat=3))\n",
    "kombinacje = [''.join(komb) for komb in kombinacje]\n",
    "\n",
    "# 2. Wyświetlanie pierwszych 10 kombinacji\n",
    "print(\"10 pierwszych kombinacji:\")\n",
    "for kombinacja in kombinacje[:10]:\n",
    "    print(kombinacja)\n",
    "\n",
    "# 3. Tworzenie par z cyframi od 0 do 9\n",
    "cyfry = list(range(10))\n",
    "mapowanie = dict(zip(cyfry, kombinacje))\n",
    "\n",
    "# 4. Funkcja szyfrująca daty\n",
    "def szyfruj_date(data):\n",
    "    segmenty = data.split('.')\n",
    "    zaszyfrowana_data = ''\n",
    "    for segment in segmenty:\n",
    "        zaszyfrowany_segment = ''.join(mapowanie[int(cyfra)] for cyfra in segment)\n",
    "        zaszyfrowana_data += zaszyfrowany_segment + '.'\n",
    "    return zaszyfrowana_data[:-1]\n",
    "\n",
    "# Przykład użycia\n",
    "data = \"13.01.90\"\n",
    "zaszyfrowana_data = szyfruj_date(data)\n",
    "print(\"Zaszyfrowana data:\", zaszyfrowana_data)\n"
   ]
  }
 ],
 "metadata": {
  "kernelspec": {
   "display_name": "Python 3",
   "language": "python",
   "name": "python3"
  },
  "language_info": {
   "codemirror_mode": {
    "name": "ipython",
    "version": 3
   },
   "file_extension": ".py",
   "mimetype": "text/x-python",
   "name": "python",
   "nbconvert_exporter": "python",
   "pygments_lexer": "ipython3",
   "version": "3.9.6"
  }
 },
 "nbformat": 4,
 "nbformat_minor": 2
}
